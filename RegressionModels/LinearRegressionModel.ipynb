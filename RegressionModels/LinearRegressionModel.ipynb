{
 "cells": [
  {
   "cell_type": "markdown",
   "metadata": {},
   "source": [
    "# Linear Regression"
   ]
  },
  {
   "cell_type": "markdown",
   "metadata": {},
   "source": [
    "## Code implementation"
   ]
  },
  {
   "cell_type": "code",
   "execution_count": 1,
   "metadata": {},
   "outputs": [],
   "source": [
    "\n",
    "import numpy as np\n",
    "import matplotlib.pyplot as plt"
   ]
  },
  {
   "cell_type": "markdown",
   "metadata": {},
   "source": [
    "Define the function $ f_{\\pmb{w}, b} $ as a liner function: \n",
    "$$\n",
    "f_{\\pmb{w}, b}(x) = \\pmb{w} * \\pmb{x} + b\n",
    "$$"
   ]
  },
  {
   "cell_type": "code",
   "execution_count": 2,
   "metadata": {},
   "outputs": [],
   "source": [
    "def f_x(x, w, b):\n",
    "    return np.dot(x, w) + b"
   ]
  },
  {
   "cell_type": "markdown",
   "metadata": {},
   "source": [
    "### Cost function\n",
    "Define the cost function as a squared error cost function with regularization:\n",
    "$$\n",
    "J(\\pmb{w}, b) = \\frac{1}{2m} \\sum_{i=1}^{m} (f_{\\pmb{w}, b}(\\pmb{x}^{(i)}) - y^{(i)})^2 + \\frac{\\lambda}{2m}  \\sum_{j=1}^{n} w_j^2 \\tag{1}\n",
    "$$"
   ]
  },
  {
   "cell_type": "code",
   "execution_count": 49,
   "metadata": {},
   "outputs": [],
   "source": [
    "def cost_fun(X, y, w, b, lambda_):\n",
    "    m, n = X.shape\n",
    "    cost = 0\n",
    "    for i in range(m):\n",
    "        err = f_x(X[i], w, b) - y[i]\n",
    "        cost += err**2\n",
    "    cost = cost / (2*m)\n",
    "    # Regularization\n",
    "    reg_cost = 0\n",
    "    for j in range(n):\n",
    "        reg_cost += w[j]**2\n",
    "    reg_cost = (lambda_/(2*m)) * reg_cost \n",
    "    # Total cost\n",
    "    cost = cost + reg_cost\n",
    "    return cost"
   ]
  },
  {
   "cell_type": "markdown",
   "metadata": {},
   "source": [
    "### Gradient descent algorithm\n",
    "repeat each iteration:\n",
    "$$ \\pmb{w} = \\pmb{w} - \\alpha \\frac{\\partial}{\\partial \\pmb{w}}J(\\pmb{w}, b) $$\n",
    "$$ b = b - \\alpha \\frac{\\partial}{\\partial b}J(\\pmb{w}, b) $$"
   ]
  },
  {
   "cell_type": "markdown",
   "metadata": {},
   "source": [
    "Cost derivatives:\n",
    "$$\n",
    "\\frac{\\partial}{\\partial \\pmb{w}}J(\\pmb{w}, b) = \\frac{1}{m}\\sum_{i=1}^{m}(f_{\\pmb{w}, b}(\\pmb{x}^{(i)}) - y^{(i)}) \\pmb{x}^{(i)} +  \\frac{\\lambda}{m} w_j \\tag{2} \n",
    "$$\n",
    "$$\n",
    "\\frac{\\partial}{\\partial b}J(\\pmb{w}, b) = \\frac{1}{m}\\sum_{i=1}^{m}(f_{\\pmb{w}, b}(\\pmb{x}^{(i)}) - y^{(i)})\n",
    "$$"
   ]
  },
  {
   "cell_type": "code",
   "execution_count": 4,
   "metadata": {},
   "outputs": [],
   "source": [
    "def cost_derivative(X, y, w, b, lambda_):\n",
    "    m, n = X.shape\n",
    "    dj_w = np.zeros(n)\n",
    "    dj_b= 0\n",
    "    for i in range(m):\n",
    "        err = f_x(X[i], w, b) - y[i]\n",
    "        dj_w += err * X[i]\n",
    "        dj_b += err\n",
    "    dj_w = dj_w / m\n",
    "    dj_b = dj_b / m\n",
    "    \n",
    "    dj_w = dj_w + (lambda_/m) * w  # Regularization\n",
    "    \n",
    "    return dj_w, dj_b\n"
   ]
  },
  {
   "cell_type": "code",
   "execution_count": 39,
   "metadata": {},
   "outputs": [],
   "source": [
    "def iter_print(iter, w, b, cost):\n",
    "    print(f'Iter: {iter} - w: {w}, b: {b}, cost: {cost}')\n",
    "\n",
    "def gradient_decent(X, y, w, b, alpha, iterations, lambda_):\n",
    "    history = []\n",
    "    for i in range(iterations+1):\n",
    "        dj_w, dj_b = cost_derivative(X, y, w, b, lambda_)  # Calclate derivatives\n",
    "        # Set new paramiters\n",
    "        w = w - alpha*dj_w \n",
    "        b = b - alpha*dj_b\n",
    "        if i % 100 == 0:  # Every 100 iterations save the paramiters and cost\n",
    "            cost = cost_fun(X, y, w, b, lambda_)\n",
    "            iter_print(i, w, b, cost) # Print iteration\n",
    "            history.append([w, b, cost])\n",
    "    return w, b, history\n",
    "    "
   ]
  },
  {
   "cell_type": "markdown",
   "metadata": {},
   "source": [
    "### Feature Scaling\n",
    "Perform some transformation on the traning data to have a similar scale"
   ]
  },
  {
   "cell_type": "markdown",
   "metadata": {},
   "source": [
    "Z-score normalization:\n",
    "$$ x_i = \\frac{x_i - \\mu_i}{\\sigma_i}"
   ]
  },
  {
   "cell_type": "code",
   "execution_count": 6,
   "metadata": {},
   "outputs": [],
   "source": [
    "def z_score (x):\n",
    "    mu = np.mean(x)\n",
    "    sdt = np.std(x)\n",
    "    x = (x - mu) / sdt\n",
    "    return x, mu, sdt\n",
    "    "
   ]
  },
  {
   "cell_type": "markdown",
   "metadata": {},
   "source": [
    "## Test algorthm"
   ]
  },
  {
   "cell_type": "markdown",
   "metadata": {},
   "source": [
    "Data creation and plotting"
   ]
  },
  {
   "cell_type": "code",
   "execution_count": 7,
   "metadata": {},
   "outputs": [],
   "source": [
    "def get_data(m, c): # Create training data from the function y = X^2\n",
    "    X_train = np.arange(0,m,1)\n",
    "    np.random.seed(1)\n",
    "    y_ideal = X_train**2 + c\n",
    "    y_train = y_ideal + 0.7 * y_ideal*(np.random.sample((m,))-0.5)\n",
    "    \n",
    "    return X_train, y_train\n"
   ]
  },
  {
   "cell_type": "code",
   "execution_count": 8,
   "metadata": {},
   "outputs": [
    {
     "data": {
      "image/png": "[encoded data removed]",
      "text/plain": [
       "<Figure size 432x288 with 1 Axes>"
      ]
     },
     "metadata": {
      "needs_background": "light"
     },
     "output_type": "display_data"
    }
   ],
   "source": [
    "m = 30\n",
    "c = 0\n",
    "x_train, y_train = get_data(m, c) # get tranong data\n",
    "x_train = x_train.reshape(-1, 1)\n",
    "\n",
    "plt.plot(x_train, y_train, 'ro') # Training data plot\n",
    "plt.show()"
   ]
  },
  {
   "cell_type": "markdown",
   "metadata": {},
   "source": [
    "Run gradient descent"
   ]
  },
  {
   "cell_type": "code",
   "execution_count": 50,
   "metadata": {},
   "outputs": [
    {
     "name": "stdout",
     "output_type": "stream",
     "text": [
      "Iter: 0 - w: [6.29329594e-08 1.48248477e-06 3.63424078e-05 9.16317011e-04], b: 2.8409926395348212e-09, cost: 20837.90461095301\n",
      "Iter: 100 - w: [1.02220366e-06 1.49468922e-05 1.94041862e-04 1.45992249e-03], b: 6.982738147652341e-08, cost: 11385.576974714442\n",
      "Iter: 200 - w: [1.94806216e-06 2.75813296e-05 3.30596854e-04 1.45469202e-03], b: 1.3541913234378254e-07, cost: 11366.741993328087\n",
      "Iter: 300 - w: [2.87264611e-06 4.01978982e-05 4.66954668e-04 1.44946911e-03], b: 2.0092430127667668e-07, cost: 11347.961356435948\n",
      "Iter: 400 - w: [3.79595735e-06 5.27966237e-05 6.03115589e-04 1.44425374e-03], b: 2.663430132700219e-07, cost: 11329.234907237511\n",
      "Iter: 500 - w: [4.71799773e-06 6.53775319e-05 7.39079902e-04 1.43904589e-03], b: 3.316753931381803e-07, cost: 11310.562489384678\n",
      "Iter: 600 - w: [5.63876907e-06 7.79406484e-05 8.74847889e-04 1.43384557e-03], b: 3.969215655153198e-07, cost: 11291.943946980455\n",
      "Iter: 700 - w: [6.55827321e-06 9.04859991e-05 1.01041983e-03 1.42865275e-03], b: 4.6208165485567426e-07, cost: 11273.379124577674\n",
      "Iter: 800 - w: [7.47651198e-06 1.03013610e-04 1.14579602e-03 1.42346744e-03], b: 5.271557854338041e-07, cost: 11254.867867177663\n",
      "Iter: 900 - w: [8.39348721e-06 1.15523505e-04 1.28097673e-03 1.41828961e-03], b: 5.921440813448553e-07, cost: 11236.410020228986\n",
      "Iter: 1000 - w: [9.30920071e-06 1.28015712e-04 1.41596225e-03 1.41311925e-03], b: 6.570466665048178e-07, cost: 11218.005429626124\n"
     ]
    }
   ],
   "source": [
    "X_train = np.c_[x_train, x_train**2, x_train**3, x_train**4] # Engineer feature\n",
    "# Initialize values\n",
    "w = np.zeros(X_train[0].shape)\n",
    "b = 0\n",
    "alpha = 1e-11\n",
    "iter = 1000\n",
    "\n",
    "model_w, model_b, history = gradient_decent(X_train, y_train, w, b, alpha, iter, 1) # Run gradient decent"
   ]
  },
  {
   "cell_type": "markdown",
   "metadata": {},
   "source": [
    "Run Gradient descednt with feature scaling"
   ]
  },
  {
   "cell_type": "code",
   "execution_count": 51,
   "metadata": {},
   "outputs": [
    {
     "name": "stdout",
     "output_type": "stream",
     "text": [
      "Iter: 0 - w: [2.5115491  3.40041359 4.4540394  6.55004682], b: 2.8409926395348215, cost: 70165.16459593108\n",
      "Iter: 100 - w: [73.28317679 51.08923354 83.15429519 31.67484363], b: 109.50746183358328, cost: 12001.384651582157\n",
      "Iter: 200 - w: [96.09778211 61.73981974 72.97892949 16.02851641], b: 158.66817335866457, cost: 8510.473112833135\n",
      "Iter: 300 - w: [115.19402145  66.14107645  63.73591431   8.32684834], b: 184.53037942181368, cost: 7288.112782612336\n",
      "Iter: 400 - w: [131.41774908  67.39614712  55.87754864   4.70352387], b: 198.31133323859274, cost: 6751.63572143938\n",
      "Iter: 500 - w: [145.20294319  67.1029568   49.20030302   3.1614007 ], b: 205.81385855973707, cost: 6456.216387520371\n",
      "Iter: 600 - w: [156.91614612  66.0817169   43.52668413   2.66991742], b: 210.04091833118167, cost: 6266.977481274374\n",
      "Iter: 700 - w: [166.86878976  64.75096167  38.70584158   2.69815189], b: 212.54752733439238, cost: 6136.332861012946\n",
      "Iter: 800 - w: [175.32549592  63.32195448  34.60959838   2.97338602], b: 214.139818325479, cost: 6043.228069908381\n",
      "Iter: 900 - w: [182.51111229  61.89917913  31.12904323   3.35627519], b: 215.23653087475233, cost: 5976.008965083157\n",
      "Iter: 1000 - w: [188.61669071  60.53227165  28.1716348    3.77631124], b: 216.05594351419683, cost: 5927.201440606646\n"
     ]
    }
   ],
   "source": [
    "x_train_norm, mu, sdt = z_score(x_train) # Get traninge set normalized\n",
    "\n",
    "X_train_norm = np.c_[x_train_norm, x_train_norm**2, x_train_norm**3, x_train_norm**4] # Engineer feature\n",
    "# Initialize values\n",
    "w = np.zeros(X_train_norm[0].shape)\n",
    "b = 0\n",
    "alpha = 1e-2\n",
    "iter = 1000\n",
    "\n",
    "model_norm_w, model_norm_b, history = gradient_decent(X_train_norm, y_train, w, b, alpha, iter, 1) # Run gradient decent"
   ]
  },
  {
   "cell_type": "markdown",
   "metadata": {},
   "source": [
    "### Results plot"
   ]
  },
  {
   "cell_type": "code",
   "execution_count": 52,
   "metadata": {},
   "outputs": [
    {
     "data": {
      "image/png": "[encoded data removed]",
      "text/plain": [
       "<Figure size 432x288 with 1 Axes>"
      ]
     },
     "metadata": {
      "needs_background": "light"
     },
     "output_type": "display_data"
    }
   ],
   "source": [
    "\n",
    "plt.plot(X_train[:,0], y_train, 'ro')\n",
    "\n",
    "x = np.linspace(0,30,300)\n",
    "X = np.c_[x, x**2, x**3, x**4]\n",
    "\n",
    "plt.plot(x, X@model_w + model_b, 'b', label='Base')\n",
    "\n",
    "x = np.linspace(0, 30,300)\n",
    "x_sup, mu, sdt = z_score(x)\n",
    "X = np.c_[x_sup, x_sup**2, x_sup**3, x_sup**4]\n",
    "\n",
    "plt.plot(x, X@model_norm_w + model_norm_b, 'g', label='Feature scaling')\n",
    "\n",
    "plt.legend()\n",
    "plt.show()\n"
   ]
  }
 ],
 "metadata": {
  "kernelspec": {
   "display_name": "base",
   "language": "python",
   "name": "base"
  },
  "language_info": {
   "codemirror_mode": {
    "name": "ipython",
    "version": 3
   },
   "file_extension": ".py",
   "mimetype": "text/x-python",
   "name": "python",
   "nbconvert_exporter": "python",
   "pygments_lexer": "ipython3",
   "version": "3.8.5"
  },
  "orig_nbformat": 4
 },
 "nbformat": 4,
 "nbformat_minor": 2
}
