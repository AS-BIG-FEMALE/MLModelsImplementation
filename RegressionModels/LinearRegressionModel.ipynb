{
 "cells": [
  {
   "cell_type": "markdown",
   "metadata": {},
   "source": [
    "# Linear Regression"
   ]
  },
  {
   "cell_type": "markdown",
   "metadata": {},
   "source": [
    "## Code implementation"
   ]
  },
  {
   "cell_type": "code",
   "execution_count": 1,
   "metadata": {},
   "outputs": [],
   "source": [
    "\n",
    "import numpy as np\n",
    "import matplotlib.pyplot as plt"
   ]
  },
  {
   "cell_type": "markdown",
   "metadata": {},
   "source": [
    "Define the function $ f_{\\pmb{w}, b} $ as a liner function: \n",
    "$$\n",
    "f_{\\pmb{w}, b}(x) = \\pmb{w} * \\pmb{x} + b\n",
    "$$"
   ]
  },
  {
   "cell_type": "code",
   "execution_count": 2,
   "metadata": {},
   "outputs": [],
   "source": [
    "def f_x(x, w, b):\n",
    "    return np.dot(x, w) + b"
   ]
  },
  {
   "cell_type": "markdown",
   "metadata": {},
   "source": [
    "### Cost function\n",
    "Define the cost function as a squared error cost function with regularization:\n",
    "$$\n",
    "J(\\pmb{w}, b) = \\frac{1}{2m} \\sum_{i=1}^{m} (f_{\\pmb{w}, b}(\\pmb{x}^{(i)}) - y^{(i)})^2 + \\frac{\\lambda}{2m}  \\sum_{j=0}^{n-1} w_j^2 \\tag{1}\n",
    "$$"
   ]
  },
  {
   "cell_type": "code",
   "execution_count": 3,
   "metadata": {},
   "outputs": [],
   "source": [
    "def cost_fun(X, y, w, b, lambda_=1):\n",
    "    m, n = X.shape\n",
    "    cost = 0\n",
    "    for i in range(m):\n",
    "        err = f_x(X[i], w, b) - y[i]\n",
    "        cost += err**2\n",
    "    cost = cost / (2*m)\n",
    "    # Regularization\n",
    "    reg_cost = 0\n",
    "    for j in range(n):\n",
    "        reg_cost += w[j]\n",
    "    reg_cost = (lambda_/(2*m)) * reg_cost \n",
    "    # Total cost\n",
    "    cost = cost + reg_cost\n",
    "    return cost"
   ]
  },
  {
   "cell_type": "markdown",
   "metadata": {},
   "source": [
    "### Gradient descent algorithm\n",
    "repeat each iteration:\n",
    "$$ \\pmb{w} = \\pmb{w} - \\alpha \\frac{\\partial}{\\partial \\pmb{w}}J(\\pmb{w}, b) $$\n",
    "$$ b = b - \\alpha \\frac{\\partial}{\\partial b}J(\\pmb{w}, b) $$"
   ]
  },
  {
   "cell_type": "markdown",
   "metadata": {},
   "source": [
    "Cost derivatives:\n",
    "$$\n",
    "\\frac{\\partial}{\\partial \\pmb{w}}J(\\pmb{w}, b) = \\frac{1}{m}\\sum_{i=1}^{m}(f_{\\pmb{w}, b}(\\pmb{x}^{(i)}) - y^{(i)}) \\pmb{x}^{(i)} +  \\frac{\\lambda}{m} w_j \\tag{2} \n",
    "$$\n",
    "$$\n",
    "\\frac{\\partial}{\\partial b}J(\\pmb{w}, b) = \\frac{1}{m}\\sum_{i=1}^{m}(f_{\\pmb{w}, b}(\\pmb{x}^{(i)}) - y^{(i)})\n",
    "$$"
   ]
  },
  {
   "cell_type": "code",
   "execution_count": 4,
   "metadata": {},
   "outputs": [],
   "source": [
    "def cost_derivative(X, y, w, b, lambda_):\n",
    "    m, n = X.shape\n",
    "    dj_w = np.zeros(n)\n",
    "    dj_b= 0\n",
    "    for i in range(m):\n",
    "        err = f_x(X[i], w, b) - y[i]\n",
    "        dj_w += err * X[i]\n",
    "        dj_b += err\n",
    "    dj_w = dj_w / m\n",
    "    dj_b = dj_b / m\n",
    "    # Regularization\n",
    "    dj_w = dj_w + (lambda_/m) * w\n",
    "    \n",
    "    return dj_w, dj_b\n"
   ]
  },
  {
   "cell_type": "code",
   "execution_count": 5,
   "metadata": {},
   "outputs": [],
   "source": [
    "def iter_print(iter, w, b, cost):\n",
    "    print(f'Iter: {iter} - w: {w}, b: {b}, cost: {cost}')\n",
    "\n",
    "def gradient_decent(X, y, w, b, alpha, iterations, lambda_=1):\n",
    "    history = []\n",
    "    for i in range(iterations+1): # every iteration\n",
    "        dj_w, dj_b = cost_derivative(X, y, w, b, lambda_) # Calclate derivatives\n",
    "        # set new paramiters\n",
    "        w = w - alpha*dj_w \n",
    "        b = b - alpha*dj_b\n",
    "        if i % 100 == 0: # Every 100 iterations save the paramiters and cost\n",
    "            cost = cost_fun(X, y, w, b, lambda_)\n",
    "            iter_print(i, w, b, cost) # Print iteration\n",
    "            history.append([w, b, cost])\n",
    "    return w, b, history\n",
    "    "
   ]
  },
  {
   "cell_type": "markdown",
   "metadata": {},
   "source": [
    "### Feature Scaling\n",
    "Perform some transformation on the traning data to have a similar scale"
   ]
  },
  {
   "cell_type": "markdown",
   "metadata": {},
   "source": [
    "Z-score normalization:\n",
    "$$ x_i = \\frac{x_i - \\mu_i}{\\sigma_i}"
   ]
  },
  {
   "cell_type": "code",
   "execution_count": 6,
   "metadata": {},
   "outputs": [],
   "source": [
    "def z_score (x):\n",
    "    mu = np.mean(x)\n",
    "    sdt = np.std(x)\n",
    "    x = (x - mu) / sdt\n",
    "    return x, mu, sdt\n",
    "    "
   ]
  },
  {
   "cell_type": "markdown",
   "metadata": {},
   "source": [
    "## Test algorthm"
   ]
  },
  {
   "cell_type": "markdown",
   "metadata": {},
   "source": [
    "Data creation and plotting"
   ]
  },
  {
   "cell_type": "code",
   "execution_count": 12,
   "metadata": {},
   "outputs": [],
   "source": [
    "def get_data(m, c): # Create training data from the function y = X^2\n",
    "    X_train = np.arange(0,m,1)\n",
    "    np.random.seed(1)\n",
    "    y_ideal = X_train**2 + c\n",
    "    y_train = y_ideal + 0.7 * y_ideal*(np.random.sample((m,))-0.5)\n",
    "    \n",
    "    return X_train, y_train\n"
   ]
  },
  {
   "cell_type": "code",
   "execution_count": 13,
   "metadata": {},
   "outputs": [
    {
     "data": {
      "image/png": "[encoded data removed]",
      "text/plain": [
       "<Figure size 432x288 with 1 Axes>"
      ]
     },
     "metadata": {
      "needs_background": "light"
     },
     "output_type": "display_data"
    }
   ],
   "source": [
    "m = 30\n",
    "c = 0\n",
    "x_train, y_train = get_data(m, c) # get tranong data\n",
    "x_train = x_train.reshape(-1, 1)\n",
    "\n",
    "plt.plot(x_train, y_train, 'ro') # Training data plot\n",
    "plt.show()"
   ]
  },
  {
   "cell_type": "markdown",
   "metadata": {},
   "source": [
    "Run gradient descent"
   ]
  },
  {
   "cell_type": "code",
   "execution_count": 62,
   "metadata": {},
   "outputs": [
    {
     "name": "stdout",
     "output_type": "stream",
     "text": [
      "Iter: 0 - w: [6.29329594e-08 1.48248477e-06 3.63424078e-05], b: 2.8409926395348212e-09, cost: 78504.17244044082\n",
      "Iter: 100 - w: [6.09083276e-06 1.43210216e-04 3.50580381e-03], b: 2.7568904569958545e-07, cost: 66443.85898645758\n",
      "Iter: 200 - w: [1.16245707e-05 2.72796462e-04 6.66844966e-03], b: 5.275875824286286e-07, cost: 56422.190939101936\n",
      "Iter: 300 - w: [1.67078446e-05 3.91314875e-04 9.55141125e-03], b: 7.603891275427175e-07, cost: 48094.56018053661\n",
      "Iter: 400 - w: [2.13804884e-05 4.99744170e-04 1.21794207e-02], b: 9.757823893783554e-07, cost: 41174.61038821093\n",
      "Iter: 500 - w: [2.56788134e-05 5.98976511e-04 1.45750231e-02], b: 1.1753067459643936e-06, cost: 35424.39028001542\n",
      "Iter: 600 - w: [2.96359199e-05 6.89825173e-04 1.67587699e-02], b: 1.360365450109196e-06, cost: 30646.171333132002\n",
      "Iter: 700 - w: [3.32819813e-05 7.73031511e-04 1.87493953e-02], b: 1.5322376667789315e-06, cost: 26675.648617621962\n",
      "Iter: 800 - w: [3.66445027e-05 8.49271325e-04 2.05639766e-02], b: 1.69208944602597e-06, cost: 23376.29094609061\n",
      "Iter: 900 - w: [3.97485570e-05 9.19160654e-04 2.22180813e-02], b: 1.8409837255953203e-06, cost: 20634.646061576717\n",
      "Iter: 1000 - w: [4.26170001e-05 9.83261061e-04 2.37259002e-02], b: 1.9798894490134492e-06, cost: 18356.439426114106\n",
      "Iter: 1100 - w: [4.52706664e-05 1.04208445e-03 2.51003689e-02], b: 2.109689877376199e-06, cost: 16463.332461460403\n",
      "Iter: 1200 - w: [4.77285484e-05 1.09609747e-03 2.63532797e-02], b: 2.2311901661360314e-06, cost: 14890.228769654594\n",
      "Iter: 1300 - w: [5.00079587e-05 1.14572547e-03 2.74953816e-02], b: 2.3451242718836505e-06, cost: 13583.035704103253\n",
      "Iter: 1400 - w: [5.21246793e-05 1.19135624e-03 2.85364733e-02], b: 2.4521612483718543e-06, cost: 12496.804319747442\n",
      "Iter: 1500 - w: [5.40930964e-05 1.23334323e-03 2.94854871e-02], b: 2.5529109857900692e-06, cost: 11594.183741946146\n",
      "Iter: 1600 - w: [5.59263241e-05 1.27200865e-03 3.03505653e-02], b: 2.6479294425222186e-06, cost: 10844.136805430702\n",
      "Iter: 1700 - w: [5.76363169e-05 1.30764623e-03 3.11391302e-02], b: 2.7377234142669607e-06, cost: 10220.872798814195\n",
      "Iter: 1800 - w: [5.92339721e-05 1.34052372e-03 3.18579477e-02], b: 2.822754881430757e-06, cost: 9702.96061561233\n",
      "Iter: 1900 - w: [6.07292235e-05 1.37088517e-03 3.25131856e-02], b: 2.9034449720865707e-06, cost: 9272.591816257407\n",
      "Iter: 2000 - w: [6.21311262e-05 1.39895309e-03 3.31104661e-02], b: 2.9801775744931934e-06, cost: 8914.968260482261\n",
      "Iter: 2100 - w: [6.34479350e-05 1.42493029e-03 3.36549143e-02], b: 3.0533026301641665e-06, cost: 8617.793252973688\n",
      "Iter: 2200 - w: [6.46871742e-05 1.44900163e-03 3.41512021e-02], b: 3.1231391357348235e-06, cost: 8370.848704641088\n",
      "Iter: 2300 - w: [6.58557032e-05 1.47133566e-03 3.46035883e-02], b: 3.1899778793780955e-06, cost: 8165.643769610483\n",
      "Iter: 2400 - w: [6.69597745e-05 1.49208600e-03 3.50159550e-02], b: 3.2540839352425866e-06, cost: 7995.122875845173\n",
      "Iter: 2500 - w: [6.80050880e-05 1.51139269e-03 3.53918411e-02], b: 3.315698937310699e-06, cost: 7853.4231096257145\n",
      "Iter: 2600 - w: [6.89968393e-05 1.52938339e-03 3.57344725e-02], b: 3.375043152182397e-06, cost: 7735.672611221448\n",
      "Iter: 2700 - w: [6.99397648e-05 1.54617448e-03 3.60467899e-02], b: 3.4323173685653776e-06, cost: 7637.82304931272\n",
      "Iter: 2800 - w: [7.08381818e-05 1.56187201e-03 3.63314739e-02], b: 3.4877046196800463e-06, cost: 7556.51041356677\n",
      "Iter: 2900 - w: [7.16960260e-05 1.57657271e-03 3.65909682e-02], b: 3.5413717533544354e-06, cost: 7488.939338529165\n",
      "Iter: 3000 - w: [7.25168850e-05 1.59036472e-03 3.68275001e-02], b: 3.5934708632776526e-06, cost: 7432.786981149283\n"
     ]
    }
   ],
   "source": [
    "X_train = np.c_[x_train, x_train**2, x_train**3] # Engineer feature\n",
    "# Initialize values\n",
    "w = np.zeros(X_train[0].shape)\n",
    "b = 0\n",
    "alpha = 1e-11\n",
    "iter = 3000\n",
    "\n",
    "model_w, model_b, history = gradient_decent(X_train, y_train, w, b, alpha, iter, 1) # Run gradient decent"
   ]
  },
  {
   "cell_type": "markdown",
   "metadata": {},
   "source": [
    "Run Gradient descednt with feature scaling"
   ]
  },
  {
   "cell_type": "code",
   "execution_count": 71,
   "metadata": {},
   "outputs": [
    {
     "name": "stdout",
     "output_type": "stream",
     "text": [
      "Iter: 0 - w: [25.11549095 34.00413595 44.54039397 65.50046823], b: 28.409926395348215, cost: 29532.086680824563\n",
      "Iter: 100 - w: [189.53085028  60.37571732  27.72883593   3.81618757], b: 216.18674055255838, cost: 5252.809233729466\n"
     ]
    }
   ],
   "source": [
    "x_train_norm, mu, sdt = z_score(x_train) # Get traninge set normalized\n",
    "\n",
    "X_train_norm = np.c_[x_train_norm, x_train_norm**2, x_train_norm**3, x_train_norm**4] # Engineer feature\n",
    "# Initialize values\n",
    "w = np.zeros(X_train_norm[0].shape)\n",
    "b = 0\n",
    "alpha = 1e-1\n",
    "iter = 100\n",
    "\n",
    "model_norm_w, model_norm_b, history = gradient_decent(X_train_norm, y_train, w, b, alpha, iter, 1) # Run gradient decent"
   ]
  },
  {
   "cell_type": "markdown",
   "metadata": {},
   "source": [
    "### Results plot"
   ]
  },
  {
   "cell_type": "code",
   "execution_count": 70,
   "metadata": {},
   "outputs": [
    {
     "data": {
      "image/png": "[encoded data removed]",
      "text/plain": [
       "<Figure size 432x288 with 1 Axes>"
      ]
     },
     "metadata": {
      "needs_background": "light"
     },
     "output_type": "display_data"
    }
   ],
   "source": [
    "\n",
    "plt.plot(X_train[:,0], y_train, 'ro')\n",
    "\n",
    "x = np.linspace(0,30,300)\n",
    "X = np.c_[x, x**2, x**3]\n",
    "\n",
    "plt.plot(x, X@model_w + model_b, 'b', label='Base')\n",
    "\n",
    "x = np.linspace(0, 30,300)\n",
    "x_sup, mu, sdt = z_score(x)\n",
    "X = np.c_[x_sup, x_sup**2, x_sup**3, x_sup**4]\n",
    "\n",
    "plt.plot(x, X@model_norm_w + model_norm_b, 'g', label='Feature scaling')\n",
    "\n",
    "plt.legend()\n",
    "plt.show()\n"
   ]
  }
 ],
 "metadata": {
  "kernelspec": {
   "display_name": "base",
   "language": "python",
   "name": "base"
  },
  "language_info": {
   "codemirror_mode": {
    "name": "ipython",
    "version": 3
   },
   "file_extension": ".py",
   "mimetype": "text/x-python",
   "name": "python",
   "nbconvert_exporter": "python",
   "pygments_lexer": "ipython3",
   "version": "3.8.5"
  },
  "orig_nbformat": 4
 },
 "nbformat": 4,
 "nbformat_minor": 2
}
