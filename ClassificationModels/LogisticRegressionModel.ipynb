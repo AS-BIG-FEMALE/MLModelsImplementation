{
 "cells": [
  {
   "cell_type": "markdown",
   "metadata": {},
   "source": [
    "# Logistic Regression"
   ]
  },
  {
   "cell_type": "markdown",
   "metadata": {},
   "source": [
    "## Code implementation"
   ]
  },
  {
   "cell_type": "code",
   "execution_count": 1,
   "metadata": {},
   "outputs": [],
   "source": [
    "\n",
    "import numpy as np\n",
    "import matplotlib.pyplot as plt\n",
    "import math"
   ]
  },
  {
   "cell_type": "markdown",
   "metadata": {},
   "source": [
    "Define the function $ f_{\\pmb{w}, b} $ as the sigmoid function $ g(z) = \\frac{1}{1 + e^{-z}} $ with $ z = \\pmb{w} * \\pmb{x} + b $: \n",
    "$$\n",
    "f_{\\pmb{w}, b}(x) = \\frac{1}{1 + e^{-(\\pmb{w} * \\pmb{x} + b)}}\n",
    "$$\n"
   ]
  },
  {
   "cell_type": "code",
   "execution_count": 2,
   "metadata": {},
   "outputs": [],
   "source": [
    "def f_x(x, w, b):\n",
    "    z = np.dot(x, w) + b\n",
    "    return 1 / (1 + math.exp(-z))"
   ]
  },
  {
   "cell_type": "markdown",
   "metadata": {},
   "source": [
    "### Cost function\n",
    "Define the cost function as the simplefied loss function with regularization:\n",
    "$$\n",
    "J(\\pmb{w}, b) = - \\frac{1}{m} \\sum_{i=1}^{m}[y^{(i)} \\log(f_{\\pmb{w}, b}(\\pmb{x}^{(i)})) + (1 - y^{(i)}) \\log(1 - f_{\\pmb{w}, b}(\\pmb{x}^{(i)}))] + \\frac{\\lambda}{2m}  \\sum_{j=1}^{n} w_j^2 \\tag{1}\n",
    "$$"
   ]
  },
  {
   "cell_type": "code",
   "execution_count": 3,
   "metadata": {},
   "outputs": [],
   "source": [
    "def cost_fun(X, y, w, b, lambda_):\n",
    "    m, n = X.shape\n",
    "    cost = 0\n",
    "    for i in range(m):\n",
    "        f = f_x(X[i], w, b)\n",
    "        err = y[i] * math.log(f) + (1 - y[i]) * math.log(1 - f)\n",
    "        cost += err\n",
    "    cost = - cost / m\n",
    "    # Regularization\n",
    "    reg_cost = 0\n",
    "    for j in range(n):\n",
    "        reg_cost += w[j]**2\n",
    "    reg_cost = (lambda_/(2*m)) * reg_cost \n",
    "    # Total cost\n",
    "    cost = cost + reg_cost\n",
    "    return cost"
   ]
  },
  {
   "cell_type": "markdown",
   "metadata": {},
   "source": [
    "### Gradient descent algorithm\n",
    "repeat each iteration:\n",
    "$$ \\pmb{w} = \\pmb{w} - \\alpha \\frac{\\partial}{\\partial \\pmb{w}}J(\\pmb{w}, b) $$\n",
    "$$ b = b - \\alpha \\frac{\\partial}{\\partial b}J(\\pmb{w}, b) $$"
   ]
  },
  {
   "cell_type": "markdown",
   "metadata": {},
   "source": [
    "Cost derivatives:\n",
    "$$\n",
    "\\frac{\\partial}{\\partial \\pmb{w}}J(\\pmb{w}, b) = \\frac{1}{m}\\sum_{i=1}^{m}(f_{\\pmb{w}, b}(\\pmb{x}^{(i)}) - y^{(i)}) \\pmb{x}^{(i)} +  \\frac{\\lambda}{m} w_j \\tag{2} \n",
    "$$\n",
    "$$\n",
    "\\frac{\\partial}{\\partial b}J(\\pmb{w}, b) = \\frac{1}{m}\\sum_{i=1}^{m}(f_{\\pmb{w}, b}(\\pmb{x}^{(i)}) - y^{(i)})\n",
    "$$"
   ]
  },
  {
   "cell_type": "code",
   "execution_count": 4,
   "metadata": {},
   "outputs": [],
   "source": [
    "def cost_derivative(X, y, w, b, lambda_):\n",
    "    m, n = X.shape\n",
    "    dj_w = np.zeros(n)\n",
    "    dj_b= 0\n",
    "    for i in range(m):\n",
    "        err = f_x(X[i], w, b) - y[i]\n",
    "        dj_w += err * X[i]\n",
    "        dj_b += err\n",
    "    dj_w = dj_w / m\n",
    "    dj_b = dj_b / m\n",
    "    \n",
    "    dj_w = dj_w + (lambda_/m) * w  # Regularization\n",
    "    \n",
    "    return dj_w, dj_b\n"
   ]
  },
  {
   "cell_type": "code",
   "execution_count": 5,
   "metadata": {},
   "outputs": [],
   "source": [
    "def iter_print(iter, w, b, cost):\n",
    "    print(f'Iter: {iter} - w: {w}, b: {b}, cost: {cost}')\n",
    "\n",
    "def gradient_decent(X, y, w, b, alpha, iterations, lambda_):\n",
    "    history = []\n",
    "    for i in range(iterations+1):\n",
    "        dj_w, dj_b = cost_derivative(X, y, w, b, lambda_)  # Calclate derivatives\n",
    "        # Set new paramiters\n",
    "        w = w - alpha*dj_w \n",
    "        b = b - alpha*dj_b\n",
    "        if i % 100 == 0:  # Every 100 iterations save the paramiters and cost\n",
    "            cost = cost_fun(X, y, w, b, lambda_)\n",
    "            iter_print(i, w, b, cost) # Print iteration\n",
    "            history.append([w, b, cost])\n",
    "    return w, b, history\n",
    "    "
   ]
  },
  {
   "cell_type": "markdown",
   "metadata": {},
   "source": [
    "### Feature Scaling\n",
    "Perform some transformation on the traning data to have a similar scale"
   ]
  },
  {
   "cell_type": "markdown",
   "metadata": {},
   "source": [
    "Z-score normalization:\n",
    "$$ x_i = \\frac{x_i - \\mu_i}{\\sigma_i}"
   ]
  },
  {
   "cell_type": "code",
   "execution_count": 6,
   "metadata": {},
   "outputs": [],
   "source": [
    "def z_score (x):\n",
    "    mu = np.mean(x)\n",
    "    sdt = np.std(x)\n",
    "    x = (x - mu) / sdt\n",
    "    return x, mu, sdt\n",
    "    "
   ]
  },
  {
   "cell_type": "markdown",
   "metadata": {},
   "source": [
    "## Test algorthm"
   ]
  },
  {
   "cell_type": "markdown",
   "metadata": {},
   "source": [
    "Data creation and plotting"
   ]
  },
  {
   "cell_type": "code",
   "execution_count": 7,
   "metadata": {},
   "outputs": [],
   "source": [
    "def get_data(m, n): # Create training data from the function y = X^2\n",
    "    np.random.seed(2)\n",
    "    X_train = 2*(np.random.rand(m,n)-[0.5,0.5])\n",
    "    y_train = X_train[:,1]+0.5  > X_train[:,0]**2 + 0.5*np.random.rand(m) #quadratic + random\n",
    "    y_train = y_train + 0  #convert from boolean to integer\n",
    "    \n",
    "    return X_train, y_train\n"
   ]
  },
  {
   "cell_type": "code",
   "execution_count": 8,
   "metadata": {},
   "outputs": [
    {
     "data": {
      "image/png": "[encoded data removed]",
      "text/plain": [
       "<Figure size 432x288 with 1 Axes>"
      ]
     },
     "metadata": {
      "needs_background": "light"
     },
     "output_type": "display_data"
    }
   ],
   "source": [
    "m = 50\n",
    "n = 2\n",
    "x_train, y_train = get_data(m, n)\n",
    "\n",
    "plt.scatter(x_train[:,0], x_train[:,1], c=y_train)\n",
    "plt.show()"
   ]
  },
  {
   "cell_type": "markdown",
   "metadata": {},
   "source": [
    "Run gradient descent"
   ]
  },
  {
   "cell_type": "code",
   "execution_count": 46,
   "metadata": {},
   "outputs": [
    {
     "name": "stdout",
     "output_type": "stream",
     "text": [
      "Iter: 0 - w: [0.00081817 0.02138855], b: -0.008, cost: 0.687964896128408\n",
      "Iter: 100 - w: [0.06193447 1.35080292], b: -0.14447657721626767, cost: 0.49146149683763574\n",
      "Iter: 200 - w: [0.09342745 1.94640228], b: -0.06281208777296868, cost: 0.45396917977204043\n",
      "Iter: 300 - w: [0.11152481 2.26228646], b: -0.010928012366468554, cost: 0.4434237073761635\n",
      "Iter: 400 - w: [0.12264254 2.44128553], b: 0.01826112220175515, cost: 0.44004919530474884\n",
      "Iter: 500 - w: [0.12964556 2.54606244], b: 0.0349271702261459, cost: 0.438895887382249\n",
      "Iter: 600 - w: [0.13408889 2.60848028], b: 0.04465562088717164, cost: 0.43848717667645093\n",
      "Iter: 700 - w: [0.13690806 2.64603848], b: 0.05042727306516958, cost: 0.43833929741582817\n",
      "Iter: 800 - w: [0.13869153 2.66877162], b: 0.053887893523267796, cost: 0.43828513467824615\n",
      "Iter: 900 - w: [0.1398154  2.68258007], b: 0.055976757239015545, cost: 0.4382651517575956\n",
      "Iter: 1000 - w: [0.14052078 2.69098545], b: 0.05724290444181643, cost: 0.43825774676311186\n"
     ]
    }
   ],
   "source": [
    "X_train = np.c_[x_train] # Engineer feature\n",
    "# Initialize values\n",
    "w = np.zeros(X_train[0].shape)\n",
    "b = 0\n",
    "alpha = 1e-1\n",
    "iter = 1000\n",
    "\n",
    "model_w, model_b, history = gradient_decent(X_train, y_train, w, b, alpha, iter, 1) # Run gradient decent"
   ]
  },
  {
   "cell_type": "markdown",
   "metadata": {},
   "source": [
    "Run Gradient descednt with feature scaling"
   ]
  },
  {
   "cell_type": "code",
   "execution_count": 34,
   "metadata": {},
   "outputs": [
    {
     "name": "stdout",
     "output_type": "stream",
     "text": [
      "Iter: 0 - w: [ 0.00336067  0.3903864  -0.11451183 -0.15033406], b: -0.08, cost: 0.5455537910867526\n",
      "Iter: 100 - w: [ 0.66075389  2.54741529 -1.08688283 -0.04685355], b: 0.8089495487951084, cost: 0.2921831965758853\n",
      "Iter: 200 - w: [ 0.67156075  2.56632089 -1.10790324 -0.05187639], b: 0.8369074849134895, cost: 0.29215060731772324\n",
      "Iter: 300 - w: [ 0.67183739  2.56680634 -1.10844692 -0.05201635], b: 0.8376390358604566, cost: 0.2921505853901744\n",
      "Iter: 400 - w: [ 0.67184461  2.566819   -1.1084611  -0.05202001], b: 0.8376581314442342, cost: 0.2921505853752437\n",
      "Iter: 500 - w: [ 0.67184479  2.56681933 -1.10846147 -0.05202011], b: 0.8376586298134262, cost: 0.2921505853752335\n",
      "Iter: 600 - w: [ 0.6718448   2.56681934 -1.10846148 -0.05202011], b: 0.8376586428200574, cost: 0.2921505853752335\n",
      "Iter: 700 - w: [ 0.6718448   2.56681934 -1.10846148 -0.05202011], b: 0.8376586431595092, cost: 0.2921505853752335\n",
      "Iter: 800 - w: [ 0.6718448   2.56681934 -1.10846148 -0.05202011], b: 0.8376586431683684, cost: 0.2921505853752334\n",
      "Iter: 900 - w: [ 0.6718448   2.56681934 -1.10846148 -0.05202011], b: 0.8376586431685992, cost: 0.2921505853752335\n",
      "Iter: 1000 - w: [ 0.6718448   2.56681934 -1.10846148 -0.05202011], b: 0.8376586431686034, cost: 0.2921505853752335\n"
     ]
    }
   ],
   "source": [
    "x_train_norm, mu, sdt = z_score(x_train) # Get traninge set normalized\n",
    "\n",
    "X_train_norm = np.c_[x_train_norm, x_train_norm**2] # Engineer feature\n",
    "# Initialize values\n",
    "w = np.zeros(X_train_norm[0].shape)\n",
    "b = 0\n",
    "alpha = 1e0\n",
    "iter = 1000\n",
    "\n",
    "model_norm_w, model_norm_b, history = gradient_decent(X_train_norm, y_train, w, b, alpha, iter, 1) # Run gradient decent"
   ]
  },
  {
   "cell_type": "markdown",
   "metadata": {},
   "source": [
    "### Results plot"
   ]
  },
  {
   "cell_type": "code",
   "execution_count": 49,
   "metadata": {},
   "outputs": [
    {
     "name": "stderr",
     "output_type": "stream",
     "text": [
      "No handles with labels found to put in legend.\n"
     ]
    },
    {
     "data": {
      "image/png": "[encoded data removed]",
      "text/plain": [
       "<Figure size 432x288 with 1 Axes>"
      ]
     },
     "metadata": {
      "needs_background": "light"
     },
     "output_type": "display_data"
    }
   ],
   "source": [
    "\n",
    "plt.scatter(x_train[:,0], x_train[:,1], c=y_train)\n",
    "\n",
    "x = np.linspace(-1,1,300)\n",
    "X = np.c_[x]\n",
    "y = (x * model_w[0] + b) / model_w[1]\n",
    "\n",
    "plt.plot(x, y, c='r')\n",
    "\n",
    "\n",
    "plt.legend()\n",
    "plt.show()\n"
   ]
  }
 ],
 "metadata": {
  "kernelspec": {
   "display_name": "base",
   "language": "python",
   "name": "base"
  },
  "language_info": {
   "codemirror_mode": {
    "name": "ipython",
    "version": 3
   },
   "file_extension": ".py",
   "mimetype": "text/x-python",
   "name": "python",
   "nbconvert_exporter": "python",
   "pygments_lexer": "ipython3",
   "version": "3.8.5"
  },
  "orig_nbformat": 4
 },
 "nbformat": 4,
 "nbformat_minor": 2
}
